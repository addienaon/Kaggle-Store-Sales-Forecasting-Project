{
 "cells": [
  {
   "cell_type": "code",
   "execution_count": 2,
   "metadata": {},
   "outputs": [],
   "source": [
    "import pandas as pd\n",
    "import numpy as np\n",
    "import random as rd\n",
    "from sklearn.decomposition import PCA\n",
    "from sklearn.preprocessing import StandardScaler\n",
    "import matplotlib.pyplot as plt"
   ]
  },
  {
   "cell_type": "markdown",
   "metadata": {},
   "source": [
    "Notebook Contents:\n",
    "- How to make up some data that we can apply PCA to.\n",
    "- How to use the PCA() function from sklearn to do PCA.\n",
    "- How to determine how much variation each principal component accounts for.\n",
    "- How to draw a fancy PCA graph using matplotlip.\n",
    "- How to examine the loading scores to determine what variable have the largest affect on the graph."
   ]
  },
  {
   "cell_type": "code",
   "execution_count": 3,
   "metadata": {},
   "outputs": [
    {
     "name": "stdout",
     "output_type": "stream",
     "text": [
      "Shape: (100, 10)\n"
     ]
    },
    {
     "data": {
      "text/html": [
       "<div>\n",
       "<style scoped>\n",
       "    .dataframe tbody tr th:only-of-type {\n",
       "        vertical-align: middle;\n",
       "    }\n",
       "\n",
       "    .dataframe tbody tr th {\n",
       "        vertical-align: top;\n",
       "    }\n",
       "\n",
       "    .dataframe thead th {\n",
       "        text-align: right;\n",
       "    }\n",
       "</style>\n",
       "<table border=\"1\" class=\"dataframe\">\n",
       "  <thead>\n",
       "    <tr style=\"text-align: right;\">\n",
       "      <th></th>\n",
       "      <th>gene1</th>\n",
       "      <th>gene2</th>\n",
       "      <th>gene3</th>\n",
       "      <th>gene4</th>\n",
       "      <th>gene5</th>\n",
       "      <th>gene6</th>\n",
       "      <th>gene7</th>\n",
       "      <th>gene8</th>\n",
       "      <th>gene9</th>\n",
       "      <th>gene10</th>\n",
       "      <th>...</th>\n",
       "      <th>gene91</th>\n",
       "      <th>gene92</th>\n",
       "      <th>gene93</th>\n",
       "      <th>gene94</th>\n",
       "      <th>gene95</th>\n",
       "      <th>gene96</th>\n",
       "      <th>gene97</th>\n",
       "      <th>gene98</th>\n",
       "      <th>gene99</th>\n",
       "      <th>gene100</th>\n",
       "    </tr>\n",
       "  </thead>\n",
       "  <tbody>\n",
       "    <tr>\n",
       "      <th>wt1</th>\n",
       "      <td>549</td>\n",
       "      <td>592</td>\n",
       "      <td>344</td>\n",
       "      <td>377</td>\n",
       "      <td>274</td>\n",
       "      <td>790</td>\n",
       "      <td>637</td>\n",
       "      <td>275</td>\n",
       "      <td>602</td>\n",
       "      <td>454</td>\n",
       "      <td>...</td>\n",
       "      <td>597</td>\n",
       "      <td>629</td>\n",
       "      <td>218</td>\n",
       "      <td>936</td>\n",
       "      <td>274</td>\n",
       "      <td>767</td>\n",
       "      <td>345</td>\n",
       "      <td>822</td>\n",
       "      <td>634</td>\n",
       "      <td>638</td>\n",
       "    </tr>\n",
       "    <tr>\n",
       "      <th>wt2</th>\n",
       "      <td>488</td>\n",
       "      <td>554</td>\n",
       "      <td>337</td>\n",
       "      <td>405</td>\n",
       "      <td>328</td>\n",
       "      <td>821</td>\n",
       "      <td>617</td>\n",
       "      <td>244</td>\n",
       "      <td>625</td>\n",
       "      <td>471</td>\n",
       "      <td>...</td>\n",
       "      <td>615</td>\n",
       "      <td>581</td>\n",
       "      <td>219</td>\n",
       "      <td>904</td>\n",
       "      <td>225</td>\n",
       "      <td>765</td>\n",
       "      <td>360</td>\n",
       "      <td>842</td>\n",
       "      <td>637</td>\n",
       "      <td>622</td>\n",
       "    </tr>\n",
       "    <tr>\n",
       "      <th>wt3</th>\n",
       "      <td>511</td>\n",
       "      <td>541</td>\n",
       "      <td>346</td>\n",
       "      <td>363</td>\n",
       "      <td>282</td>\n",
       "      <td>784</td>\n",
       "      <td>621</td>\n",
       "      <td>254</td>\n",
       "      <td>578</td>\n",
       "      <td>450</td>\n",
       "      <td>...</td>\n",
       "      <td>561</td>\n",
       "      <td>573</td>\n",
       "      <td>224</td>\n",
       "      <td>854</td>\n",
       "      <td>208</td>\n",
       "      <td>725</td>\n",
       "      <td>352</td>\n",
       "      <td>804</td>\n",
       "      <td>671</td>\n",
       "      <td>614</td>\n",
       "    </tr>\n",
       "    <tr>\n",
       "      <th>wt4</th>\n",
       "      <td>535</td>\n",
       "      <td>522</td>\n",
       "      <td>305</td>\n",
       "      <td>384</td>\n",
       "      <td>288</td>\n",
       "      <td>835</td>\n",
       "      <td>662</td>\n",
       "      <td>257</td>\n",
       "      <td>600</td>\n",
       "      <td>457</td>\n",
       "      <td>...</td>\n",
       "      <td>604</td>\n",
       "      <td>608</td>\n",
       "      <td>195</td>\n",
       "      <td>922</td>\n",
       "      <td>255</td>\n",
       "      <td>746</td>\n",
       "      <td>344</td>\n",
       "      <td>787</td>\n",
       "      <td>625</td>\n",
       "      <td>589</td>\n",
       "    </tr>\n",
       "    <tr>\n",
       "      <th>wt5</th>\n",
       "      <td>530</td>\n",
       "      <td>536</td>\n",
       "      <td>305</td>\n",
       "      <td>372</td>\n",
       "      <td>304</td>\n",
       "      <td>786</td>\n",
       "      <td>612</td>\n",
       "      <td>265</td>\n",
       "      <td>654</td>\n",
       "      <td>477</td>\n",
       "      <td>...</td>\n",
       "      <td>584</td>\n",
       "      <td>584</td>\n",
       "      <td>218</td>\n",
       "      <td>866</td>\n",
       "      <td>224</td>\n",
       "      <td>753</td>\n",
       "      <td>359</td>\n",
       "      <td>804</td>\n",
       "      <td>640</td>\n",
       "      <td>638</td>\n",
       "    </tr>\n",
       "  </tbody>\n",
       "</table>\n",
       "<p>5 rows × 100 columns</p>\n",
       "</div>"
      ],
      "text/plain": [
       "    gene1 gene2 gene3 gene4 gene5 gene6 gene7 gene8 gene9 gene10  ... gene91  \\\n",
       "wt1   549   592   344   377   274   790   637   275   602    454  ...    597   \n",
       "wt2   488   554   337   405   328   821   617   244   625    471  ...    615   \n",
       "wt3   511   541   346   363   282   784   621   254   578    450  ...    561   \n",
       "wt4   535   522   305   384   288   835   662   257   600    457  ...    604   \n",
       "wt5   530   536   305   372   304   786   612   265   654    477  ...    584   \n",
       "\n",
       "    gene92 gene93 gene94 gene95 gene96 gene97 gene98 gene99 gene100  \n",
       "wt1    629    218    936    274    767    345    822    634     638  \n",
       "wt2    581    219    904    225    765    360    842    637     622  \n",
       "wt3    573    224    854    208    725    352    804    671     614  \n",
       "wt4    608    195    922    255    746    344    787    625     589  \n",
       "wt5    584    218    866    224    753    359    804    640     638  \n",
       "\n",
       "[5 rows x 100 columns]"
      ]
     },
     "execution_count": 3,
     "metadata": {},
     "output_type": "execute_result"
    }
   ],
   "source": [
    "genes = ['gene' +str(i) for i in range(1,101)] #generate an array of 100 gene names\n",
    "#create arrays of sample names.\n",
    "wt = ['wt' + str(i) for i in range(1,6)] #5 \"wild type\" or 'wt' samples\n",
    "ko = ['ko' + str(i) for i in range(1,6)] #5 'knock out\" or 'ko' smaples\n",
    "\n",
    "data = pd.DataFrame(columns=[*wt, *ko], index=genes) \n",
    "#The astrix * unpack the 'wt' and 'ko' arrays so that the columns names arr a single array that looks like:\n",
    "#['wt1', 'wt2', 'wt3', 'wt4', 'wt5', 'ko1', 'ko2', 'ko3', 'ko4', 'ko5']\n",
    "#without the * we would create an array of two arrays and that wouldn't create 12 columns like we want\n",
    "\n",
    "for gene in data.index:\n",
    "    #made up data comes from 2 poisson distributions, one for each sample: wt and ko\n",
    "    data.loc[gene,'wt1':'wt5'] = np.random.poisson(lam=rd.randrange(10,1000), size=5)\n",
    "    data.loc[gene,'ko1':'ko5'] = np.random.poisson(lam=rd.randrange(10,1000), size=5)\n",
    "\n",
    "print('Shape:',data.shape)\n",
    "data.T.head()"
   ]
  },
  {
   "cell_type": "code",
   "execution_count": 4,
   "metadata": {},
   "outputs": [],
   "source": [
    "#Center and scale the data- after centering, the average value for each gene will be 0, and after scaling, \n",
    "# the standard deviation for the values for each gene will be 1.\n",
    "#scaled_data = preprocessing.scale(data.T) #used in video, but less common for ML\n",
    "#NOTE: we are passing in the transpose of our data because the genes are the features and gene data is stored as rows\n",
    "# The scale function expects the samples to be rows instead of columns.\n",
    "\n",
    "#Alternatively:\n",
    "scaled_data = StandardScaler().fit_transform(data.T)"
   ]
  },
  {
   "cell_type": "markdown",
   "metadata": {},
   "source": [
    "Notes from StandardScaler() documentation:\n",
    "A common mistake is to apply scal to the entire data before splitting into training and test sets. This will bias the model evaluation because the information would have leaked from the test set to the training set. In general, it is recommended to use StandardScaler within a PIpeline i order to prevent most risks to data leaing: pipe = make_pipeline(StandardScaler(), LogisticRegression())"
   ]
  },
  {
   "cell_type": "markdown",
   "metadata": {},
   "source": [
    "StandardScaler- Standardize features by removing the mean and scaling to unit variance.\n",
    "\n",
    "In the example, the data is centered as scaled so that each gene (feature) has a mean=0 and stdv=1.\n",
    "This is done so that all features are evaluated proportionally in relation to the data, so that the higher magnitude of one feature column doesn't skew the data."
   ]
  },
  {
   "cell_type": "markdown",
   "metadata": {},
   "source": [
    "The denominator in which variation is calculated differs between R and Python. \n",
    "In python variation eq: (measurements-mean)^2/# of measurements\n",
    "In R variation eq: (measurements-mean)^2/(# of measurements-1)\n",
    "The difference has no effect on PCA or eigenvector, but will result in minor effects on the final graph. This is because the coordinates on the final graph come from multiplying the loading scores by the scaled values."
   ]
  },
  {
   "cell_type": "code",
   "execution_count": 5,
   "metadata": {},
   "outputs": [],
   "source": [
    "#Creating PCA object to train on one dataset and apply on another\n",
    "pca = PCA()\n",
    "pca.fit(scaled_data) #calculating loading scores and variation each PC accounts for\n",
    "pca_data = pca.transform(scaled_data) #generate coords for PCA graph based on loading scores and scaled data"
   ]
  },
  {
   "cell_type": "code",
   "execution_count": 9,
   "metadata": {},
   "outputs": [],
   "source": [
    "#Skree plot to determine how many principal components to include\n",
    "#calculate the %variation each PC accounts for\n",
    "per_var = np.round(pca.explained_variance_ratio_*100, decimals=1)\n",
    "labels = ['PC' + str(x) for x in range(1, len(per_var)+1)]"
   ]
  },
  {
   "cell_type": "code",
   "execution_count": 10,
   "metadata": {},
   "outputs": [
    {
     "data": {
      "image/png": "[encoded data removed]",
      "text/plain": [
       "<Figure size 432x288 with 1 Axes>"
      ]
     },
     "metadata": {
      "needs_background": "light"
     },
     "output_type": "display_data"
    }
   ],
   "source": [
    "#Skree Plot\n",
    "plt.bar(x=range(1,len(per_var)+1), height=per_var, tick_label=labels)\n",
    "plt.ylabel('Percentage of Explained Variance')\n",
    "plt.xlabel('Principal Component')\n",
    "plt.title('Scree Plot')\n",
    "plt.show()"
   ]
  },
  {
   "cell_type": "markdown",
   "metadata": {},
   "source": [
    "Almost all of the variation is along the first PC, so a 2-D graph, using PC1 and PC2, should do a good job representing the original data."
   ]
  },
  {
   "cell_type": "code",
   "execution_count": 11,
   "metadata": {},
   "outputs": [],
   "source": [
    "pca_df = pd.DataFrame(pca_data, index=[*wt, *ko], columns=labels)\n",
    "#put PCA data into a matrix where the rows have sample labels and the columns have PC labels."
   ]
  },
  {
   "cell_type": "code",
   "execution_count": 14,
   "metadata": {},
   "outputs": [
    {
     "data": {
      "image/png": "[encoded data removed]",
      "text/plain": [
       "<Figure size 432x288 with 1 Axes>"
      ]
     },
     "metadata": {
      "needs_background": "light"
     },
     "output_type": "display_data"
    }
   ],
   "source": [
    "plt.scatter(pca_df.PC1, pca_df.PC2)\n",
    "plt.title('My PCA Graph')\n",
    "plt.xlabel('PC1 - {0}%'.format(per_var[0]))\n",
    "plt.ylabel('PC2 - {0}%'.format(per_var[1]))\n",
    "\n",
    "for sample in pca_df.index: #adds sample names to scatter\n",
    "    plt.annotate(sample, (pca_df.PC1.loc[sample], pca_df.PC2.loc[sample]))"
   ]
  },
  {
   "cell_type": "markdown",
   "metadata": {},
   "source": [
    "'wt' clusters together and 'ko' cluster together, suggesting they are correlated with eachother. And the sepatation of the two clusters along the x-axis suggests that 'wt' samples are very different from 'ko' sampels."
   ]
  },
  {
   "cell_type": "markdown",
   "metadata": {},
   "source": [
    "IMPORTANT!!!\n",
    "Look at the loading scores for PC1 to determine which genes has the largest influence on separating the two clusters along the x-axis."
   ]
  },
  {
   "cell_type": "code",
   "execution_count": 18,
   "metadata": {},
   "outputs": [],
   "source": [
    "loading_scores = pd.Series(pca.components_[0], index=genes) #Create a series object with the loading scores in PC1\n",
    "sorted_loading_scores = loading_scores.abs().sort_values(ascending=False)#sort the loading scores based on abs value\n",
    "\n",
    "top_10_genes = sorted_loading_scores[0:10].index.values"
   ]
  },
  {
   "cell_type": "code",
   "execution_count": 20,
   "metadata": {},
   "outputs": [
    {
     "name": "stdout",
     "output_type": "stream",
     "text": [
      "gene11    0.105488\n",
      "gene57   -0.105457\n",
      "gene97    0.105453\n",
      "gene56   -0.105405\n",
      "gene47   -0.105400\n",
      "gene90    0.105387\n",
      "gene52   -0.105366\n",
      "gene35   -0.105364\n",
      "gene28   -0.105356\n",
      "gene23   -0.105344\n",
      "dtype: float64\n"
     ]
    }
   ],
   "source": [
    "print(loading_scores[top_10_genes])"
   ]
  },
  {
   "cell_type": "markdown",
   "metadata": {},
   "source": [
    "These calues are super similar, so a lot of genes played a role in separating the samples, rather that just one or two. "
   ]
  },
  {
   "cell_type": "code",
   "execution_count": null,
   "metadata": {},
   "outputs": [],
   "source": []
  }
 ],
 "metadata": {
  "kernelspec": {
   "display_name": "Python 3 (ipykernel)",
   "language": "python",
   "name": "python3"
  },
  "language_info": {
   "codemirror_mode": {
    "name": "ipython",
    "version": 3
   },
   "file_extension": ".py",
   "mimetype": "text/x-python",
   "name": "python",
   "nbconvert_exporter": "python",
   "pygments_lexer": "ipython3",
   "version": "3.9.12"
  },
  "vscode": {
   "interpreter": {
    "hash": "66ef38be224abe290c3aeaf1dc6196dd6bd7e5fa8e1dc2b14a972cfa51f27db0"
   }
  }
 },
 "nbformat": 4,
 "nbformat_minor": 2
}
